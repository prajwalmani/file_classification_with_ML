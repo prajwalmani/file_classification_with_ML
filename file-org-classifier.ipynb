{
 "cells": [
  {
   "cell_type": "markdown",
   "metadata": {},
   "source": [
    "Made By Mohammed Imran Mohsin"
   ]
  },
  {
   "cell_type": "markdown",
   "metadata": {},
   "source": [
    "# PDF & WORD content classifier Notebook"
   ]
  },
  {
   "cell_type": "code",
   "execution_count": 1,
   "metadata": {},
   "outputs": [
    {
     "name": "stdout",
     "output_type": "stream",
     "text": [
      "Current Time = 18:56:26\n"
     ]
    }
   ],
   "source": [
    "# Tracking Time Taken to Execute this Notebook\n",
    "from datetime import datetime\n",
    "now = datetime.now()\n",
    "current_time = now.strftime(\"%H:%M:%S\")\n",
    "print(\"Current Time =\", current_time)"
   ]
  },
  {
   "cell_type": "markdown",
   "metadata": {},
   "source": [
    "#### Loading in the Dataset CSV File"
   ]
  },
  {
   "cell_type": "code",
   "execution_count": 2,
   "metadata": {
    "_cell_guid": "79c7e3d0-c299-4dcb-8224-4455121ee9b0",
    "_uuid": "d629ff2d2480ee46fbb7e2d37f6b5fab8052498a"
   },
   "outputs": [],
   "source": [
    "# Importing the pandas and numpy library\n",
    "import numpy as np\n",
    "import pandas as pd\n",
    "import matplotlib.pyplot as plt\n",
    "\n",
    "# loading the data\n",
    "path = \"dataset/bbc-text.csv\"\n",
    "data = pd.read_csv(path)\n",
    "dataI = data.copy()"
   ]
  },
  {
   "cell_type": "markdown",
   "metadata": {},
   "source": [
    "#### Dataset Table"
   ]
  },
  {
   "cell_type": "code",
   "execution_count": 3,
   "metadata": {},
   "outputs": [
    {
     "data": {
      "text/html": [
       "<div>\n",
       "<style scoped>\n",
       "    .dataframe tbody tr th:only-of-type {\n",
       "        vertical-align: middle;\n",
       "    }\n",
       "\n",
       "    .dataframe tbody tr th {\n",
       "        vertical-align: top;\n",
       "    }\n",
       "\n",
       "    .dataframe thead th {\n",
       "        text-align: right;\n",
       "    }\n",
       "</style>\n",
       "<table border=\"1\" class=\"dataframe\">\n",
       "  <thead>\n",
       "    <tr style=\"text-align: right;\">\n",
       "      <th></th>\n",
       "      <th>category</th>\n",
       "      <th>text</th>\n",
       "    </tr>\n",
       "  </thead>\n",
       "  <tbody>\n",
       "    <tr>\n",
       "      <th>0</th>\n",
       "      <td>tech</td>\n",
       "      <td>tv future in the hands of viewers with home th...</td>\n",
       "    </tr>\n",
       "    <tr>\n",
       "      <th>1</th>\n",
       "      <td>business</td>\n",
       "      <td>worldcom boss  left books alone  former worldc...</td>\n",
       "    </tr>\n",
       "    <tr>\n",
       "      <th>2</th>\n",
       "      <td>sport</td>\n",
       "      <td>tigers wary of farrell  gamble  leicester say ...</td>\n",
       "    </tr>\n",
       "    <tr>\n",
       "      <th>3</th>\n",
       "      <td>sport</td>\n",
       "      <td>yeading face newcastle in fa cup premiership s...</td>\n",
       "    </tr>\n",
       "    <tr>\n",
       "      <th>4</th>\n",
       "      <td>entertainment</td>\n",
       "      <td>ocean s twelve raids box office ocean s twelve...</td>\n",
       "    </tr>\n",
       "  </tbody>\n",
       "</table>\n",
       "</div>"
      ],
      "text/plain": [
       "        category                                               text\n",
       "0           tech  tv future in the hands of viewers with home th...\n",
       "1       business  worldcom boss  left books alone  former worldc...\n",
       "2          sport  tigers wary of farrell  gamble  leicester say ...\n",
       "3          sport  yeading face newcastle in fa cup premiership s...\n",
       "4  entertainment  ocean s twelve raids box office ocean s twelve..."
      ]
     },
     "execution_count": 3,
     "metadata": {},
     "output_type": "execute_result"
    }
   ],
   "source": [
    "data.head()"
   ]
  },
  {
   "cell_type": "markdown",
   "metadata": {},
   "source": [
    "#### Dataset Description"
   ]
  },
  {
   "cell_type": "code",
   "execution_count": 4,
   "metadata": {},
   "outputs": [
    {
     "data": {
      "text/html": [
       "<div>\n",
       "<style scoped>\n",
       "    .dataframe tbody tr th:only-of-type {\n",
       "        vertical-align: middle;\n",
       "    }\n",
       "\n",
       "    .dataframe tbody tr th {\n",
       "        vertical-align: top;\n",
       "    }\n",
       "\n",
       "    .dataframe thead th {\n",
       "        text-align: right;\n",
       "    }\n",
       "</style>\n",
       "<table border=\"1\" class=\"dataframe\">\n",
       "  <thead>\n",
       "    <tr style=\"text-align: right;\">\n",
       "      <th></th>\n",
       "      <th>category</th>\n",
       "      <th>text</th>\n",
       "    </tr>\n",
       "  </thead>\n",
       "  <tbody>\n",
       "    <tr>\n",
       "      <th>count</th>\n",
       "      <td>2225</td>\n",
       "      <td>2225</td>\n",
       "    </tr>\n",
       "    <tr>\n",
       "      <th>unique</th>\n",
       "      <td>5</td>\n",
       "      <td>2126</td>\n",
       "    </tr>\n",
       "    <tr>\n",
       "      <th>top</th>\n",
       "      <td>sport</td>\n",
       "      <td>singapore growth at 8.1% in 2004 singapore s e...</td>\n",
       "    </tr>\n",
       "    <tr>\n",
       "      <th>freq</th>\n",
       "      <td>511</td>\n",
       "      <td>2</td>\n",
       "    </tr>\n",
       "  </tbody>\n",
       "</table>\n",
       "</div>"
      ],
      "text/plain": [
       "       category                                               text\n",
       "count      2225                                               2225\n",
       "unique        5                                               2126\n",
       "top       sport  singapore growth at 8.1% in 2004 singapore s e...\n",
       "freq        511                                                  2"
      ]
     },
     "execution_count": 4,
     "metadata": {},
     "output_type": "execute_result"
    }
   ],
   "source": [
    "data.describe()"
   ]
  },
  {
   "cell_type": "code",
   "execution_count": 5,
   "metadata": {},
   "outputs": [
    {
     "name": "stdout",
     "output_type": "stream",
     "text": [
      "Different Categories (Tags): ['tech' 'business' 'sport' 'entertainment' 'politics']\n"
     ]
    }
   ],
   "source": [
    "# Output Classification Tags as shown below\n",
    "classes = data['category'].unique()\n",
    "print(\"Different Categories (Tags):\",classes)"
   ]
  },
  {
   "cell_type": "code",
   "execution_count": 6,
   "metadata": {},
   "outputs": [
    {
     "data": {
      "text/plain": [
       "sport            511\n",
       "business         510\n",
       "politics         417\n",
       "tech             401\n",
       "entertainment    386\n",
       "Name: category, dtype: int64"
      ]
     },
     "execution_count": 6,
     "metadata": {},
     "output_type": "execute_result"
    }
   ],
   "source": [
    "# Category Data count ~~ To avoide Extream Bias Distribution of train data\n",
    "data['category'].value_counts()"
   ]
  },
  {
   "cell_type": "code",
   "execution_count": 7,
   "metadata": {},
   "outputs": [
    {
     "data": {
      "text/plain": [
       "<matplotlib.axes._subplots.AxesSubplot at 0x1ddbcbc8d08>"
      ]
     },
     "execution_count": 7,
     "metadata": {},
     "output_type": "execute_result"
    },
    {
     "data": {
      "image/png": "[encoded data removed]",
      "text/plain": [
       "<Figure size 432x288 with 1 Axes>"
      ]
     },
     "metadata": {
      "needs_background": "light"
     },
     "output_type": "display_data"
    }
   ],
   "source": [
    "# Importing seaborn for matplotlib plots\n",
    "import seaborn as sb\n",
    "\n",
    "sb.countplot(x='category',data = data)"
   ]
  },
  {
   "cell_type": "code",
   "execution_count": 8,
   "metadata": {},
   "outputs": [
    {
     "data": {
      "text/plain": [
       "politics         386\n",
       "entertainment    386\n",
       "business         386\n",
       "tech             386\n",
       "sport            386\n",
       "Name: category, dtype: int64"
      ]
     },
     "execution_count": 8,
     "metadata": {},
     "output_type": "execute_result"
    }
   ],
   "source": [
    "def balance_categories(dataframe):\n",
    "    dataframe=data['category']\n",
    "    cTech= 401 - 386\n",
    "    cBusiness= 510 - 386\n",
    "    cSport= 511 - 386\n",
    "    cPolitics= 417 - 386\n",
    "\n",
    "    index=0\n",
    "\n",
    "    iTech = []\n",
    "    iBusiness = []\n",
    "    iSport = []\n",
    "    iPolitics = []\n",
    "    iArray = []\n",
    "\n",
    "    for item in dataframe:\n",
    "        if item == \"tech\":\n",
    "            if cTech!=0:\n",
    "                #iTech.append(index)\n",
    "                iArray.append(index)\n",
    "                cTech=cTech-1\n",
    "        if item == \"business\":\n",
    "            if cBusiness!=0:\n",
    "                #iBusiness.append(index)\n",
    "                iArray.append(index)\n",
    "                cBusiness=cBusiness-1\n",
    "        if item == \"sport\":\n",
    "            if cSport!=0:\n",
    "                #iSport.append(index)\n",
    "                iArray.append(index)\n",
    "                cSport=cSport-1\n",
    "        if item == \"politics\":\n",
    "            if cPolitics!=0:\n",
    "                #iPolitics.append(index)\n",
    "                iArray.append(index)\n",
    "                cPolitics=cPolitics-1\n",
    "        index=index+1\n",
    "    dataframe = dataframe.drop(iArray,axis=0)\n",
    "    return dataframe\n",
    "dataFilter = balance_categories(data['category'])\n",
    "dataFilter.value_counts()"
   ]
  },
  {
   "cell_type": "code",
   "execution_count": 9,
   "metadata": {},
   "outputs": [
    {
     "data": {
      "text/html": [
       "<div>\n",
       "<style scoped>\n",
       "    .dataframe tbody tr th:only-of-type {\n",
       "        vertical-align: middle;\n",
       "    }\n",
       "\n",
       "    .dataframe tbody tr th {\n",
       "        vertical-align: top;\n",
       "    }\n",
       "\n",
       "    .dataframe thead th {\n",
       "        text-align: right;\n",
       "    }\n",
       "</style>\n",
       "<table border=\"1\" class=\"dataframe\">\n",
       "  <thead>\n",
       "    <tr style=\"text-align: right;\">\n",
       "      <th></th>\n",
       "      <th>category</th>\n",
       "      <th>text</th>\n",
       "    </tr>\n",
       "  </thead>\n",
       "  <tbody>\n",
       "    <tr>\n",
       "      <th>0</th>\n",
       "      <td>entertainment</td>\n",
       "      <td>ocean s twelve raids box office ocean s twelve...</td>\n",
       "    </tr>\n",
       "    <tr>\n",
       "      <th>1</th>\n",
       "      <td>entertainment</td>\n",
       "      <td>last star wars  not for children  the sixth an...</td>\n",
       "    </tr>\n",
       "    <tr>\n",
       "      <th>2</th>\n",
       "      <td>entertainment</td>\n",
       "      <td>berlin cheers for anti-nazi film a german movi...</td>\n",
       "    </tr>\n",
       "    <tr>\n",
       "      <th>3</th>\n",
       "      <td>entertainment</td>\n",
       "      <td>career honour for actor dicaprio actor leonard...</td>\n",
       "    </tr>\n",
       "    <tr>\n",
       "      <th>4</th>\n",
       "      <td>entertainment</td>\n",
       "      <td>halloween writer debra hill dies screenwriter ...</td>\n",
       "    </tr>\n",
       "    <tr>\n",
       "      <th>...</th>\n",
       "      <td>...</td>\n",
       "      <td>...</td>\n",
       "    </tr>\n",
       "    <tr>\n",
       "      <th>1925</th>\n",
       "      <td>business</td>\n",
       "      <td>cars pull down us retail figures us retail sal...</td>\n",
       "    </tr>\n",
       "    <tr>\n",
       "      <th>1926</th>\n",
       "      <td>politics</td>\n",
       "      <td>kilroy unveils immigration policy ex-chatshow ...</td>\n",
       "    </tr>\n",
       "    <tr>\n",
       "      <th>1927</th>\n",
       "      <td>entertainment</td>\n",
       "      <td>rem announce new glasgow concert us band rem h...</td>\n",
       "    </tr>\n",
       "    <tr>\n",
       "      <th>1928</th>\n",
       "      <td>politics</td>\n",
       "      <td>how political squabbles snowball it s become c...</td>\n",
       "    </tr>\n",
       "    <tr>\n",
       "      <th>1929</th>\n",
       "      <td>sport</td>\n",
       "      <td>souness delight at euro progress boss graeme s...</td>\n",
       "    </tr>\n",
       "  </tbody>\n",
       "</table>\n",
       "<p>1930 rows × 2 columns</p>\n",
       "</div>"
      ],
      "text/plain": [
       "           category                                               text\n",
       "0     entertainment  ocean s twelve raids box office ocean s twelve...\n",
       "1     entertainment  last star wars  not for children  the sixth an...\n",
       "2     entertainment  berlin cheers for anti-nazi film a german movi...\n",
       "3     entertainment  career honour for actor dicaprio actor leonard...\n",
       "4     entertainment  halloween writer debra hill dies screenwriter ...\n",
       "...             ...                                                ...\n",
       "1925       business  cars pull down us retail figures us retail sal...\n",
       "1926       politics  kilroy unveils immigration policy ex-chatshow ...\n",
       "1927  entertainment  rem announce new glasgow concert us band rem h...\n",
       "1928       politics  how political squabbles snowball it s become c...\n",
       "1929          sport  souness delight at euro progress boss graeme s...\n",
       "\n",
       "[1930 rows x 2 columns]"
      ]
     },
     "execution_count": 9,
     "metadata": {},
     "output_type": "execute_result"
    }
   ],
   "source": [
    "data['category'] = dataFilter\n",
    "data = data.dropna()\n",
    "data = data.reset_index(drop=True)\n",
    "data"
   ]
  },
  {
   "cell_type": "code",
   "execution_count": 10,
   "metadata": {},
   "outputs": [
    {
     "data": {
      "text/plain": [
       "politics         386\n",
       "entertainment    386\n",
       "business         386\n",
       "tech             386\n",
       "sport            386\n",
       "Name: category, dtype: int64"
      ]
     },
     "execution_count": 10,
     "metadata": {},
     "output_type": "execute_result"
    }
   ],
   "source": [
    "data['category'].value_counts()"
   ]
  },
  {
   "cell_type": "code",
   "execution_count": 11,
   "metadata": {},
   "outputs": [
    {
     "data": {
      "text/plain": [
       "<matplotlib.axes._subplots.AxesSubplot at 0x1ddbd3653c8>"
      ]
     },
     "execution_count": 11,
     "metadata": {},
     "output_type": "execute_result"
    },
    {
     "data": {
      "image/png": "[encoded data removed]",
      "text/plain": [
       "<Figure size 432x288 with 1 Axes>"
      ]
     },
     "metadata": {
      "needs_background": "light"
     },
     "output_type": "display_data"
    }
   ],
   "source": [
    "import seaborn as sb\n",
    "\n",
    "sb.countplot(x='category',data = data)"
   ]
  },
  {
   "cell_type": "markdown",
   "metadata": {},
   "source": [
    "**Data Pre-Processing**\n"
   ]
  },
  {
   "cell_type": "code",
   "execution_count": 12,
   "metadata": {},
   "outputs": [],
   "source": [
    "# Importing libraries:\n",
    "# Natural Language Toolkit & Regular Expression Library\n",
    "import re\n",
    "from nltk.corpus import stopwords \n",
    "from nltk.stem.porter import PorterStemmer \n",
    "from nltk.stem import WordNetLemmatizer \n",
    "\n",
    "# Loading the stop words list, Stemmer and lemmatizer\n",
    "stop_words = set(stopwords.words(\"english\")) \n",
    "stemmer = PorterStemmer() \n",
    "lemmatizer = WordNetLemmatizer() "
   ]
  },
  {
   "cell_type": "code",
   "execution_count": 13,
   "metadata": {},
   "outputs": [],
   "source": [
    "# method to filter the text by removing stop words\n",
    "def filtering_words(text):\n",
    "    words = text.split()\n",
    "    new_words_list = []\n",
    "    for word in words:\n",
    "        if word not in stop_words:\n",
    "            word = stemmer.stem(word)\n",
    "            word = lemmatizer.lemmatize(word, pos ='v')\n",
    "            new_words_list.append(word)\n",
    "    return \" \".join(new_words_list)\n",
    "\n",
    "# Method to Cleaning the text content\n",
    "def preprocess(text):\n",
    "    text = text.lower()\n",
    "    # Using Regular Expression to replace non-alphabets with null\n",
    "    text = clean_text(text)\n",
    "    text = re.sub('[^a-zA-Z ]','',text)\n",
    "    text = filtering_words(text)\n",
    "    return text\n",
    "\n",
    "# Rephrasing certain text\n",
    "def clean_text(text):\n",
    "    text = text.lower()\n",
    "    text = re.sub(r\"what's\", \"what is \", text)\n",
    "    text = re.sub(r\"\\'s\", \" \", text)\n",
    "    text = re.sub(r\"\\'ve\", \" have \", text)\n",
    "    text = re.sub(r\"can't\", \"can not \", text)\n",
    "    text = re.sub(r\"n't\", \" not \", text)\n",
    "    text = re.sub(r\"i'm\", \"i am \", text)\n",
    "    text = re.sub(r\"\\'re\", \" are \", text)\n",
    "    text = re.sub(r\"\\'d\", \" would \", text)\n",
    "    text = re.sub(r\"\\'ll\", \" will \", text)\n",
    "    text = re.sub(r\"\\'scuse\", \" excuse \", text)\n",
    "    text = re.sub('\\W', ' ', text)\n",
    "    text = re.sub('\\s+', ' ', text)\n",
    "    text = text.strip(' ')\n",
    "    return text"
   ]
  },
  {
   "cell_type": "markdown",
   "metadata": {},
   "source": [
    "#### Example Before-After Pre-Processing Method"
   ]
  },
  {
   "cell_type": "code",
   "execution_count": 14,
   "metadata": {},
   "outputs": [
    {
     "name": "stdout",
     "output_type": "stream",
     "text": [
      "Before preprocess method:\n",
      "\n",
      " 2d metal slug offers retro fun like some drill sergeant from the past  metal slug 3 is a wake-up call to today s gamers molly-coddled with slick visuals and fancy trimmings.  with its hand-animated sprites and 2d side-scrolling  this was even considered retro when released in arcades four years ago. but a more frantic shooter you will not find at the end of your joypad this year. and yes  that includes halo 2. simply choose your grunt and wade through five 2d side-scrolling levels of the most hectic video game blasting you will ever encounter. it is also the toughest game you are likely to play  as hordes of enemies and few lives pile the pressure on.  players must battle soldiers  snowmen  zombies  giant crabs and aliens  not to mention the huge  screen-filling bosses that guard each of the five levels.  the shoot-anything-that-moves gameplay is peppered with moments of old-school genius. fans of robotic gastropods should note the title refers  instead  to the vast array of vehicles on offer in a game stuffed with bizarre hardware. tanks  jets and submarines can be commandeered  as well as cannon-toting camels  elephants and ostriches - more weaponry on offer than in an acre of iraq. doling out justice is a joy thanks to ultra responsive controls  and while this is a tough nut to crack  it is addictive enough to have you gagging for that one last go. and at a mere £20  metal slug 3 is as cheap as sliced  fried spuds  as the man says. of course  most of you will ignore this  lacking as it does the visual fireworks of modern blasters. but at a time when blockbuster titles offer only a fresh lick of paint in favour of real innovation  metal slug 3 is a fresh gasp of air from an era when the xbox was not even a twinkle in bill gates  eye.\n"
     ]
    }
   ],
   "source": [
    "print(\"Before preprocess method:\\n\\n\",data['text'][25])"
   ]
  },
  {
   "cell_type": "code",
   "execution_count": 15,
   "metadata": {},
   "outputs": [
    {
     "name": "stdout",
     "output_type": "stream",
     "text": [
      "After preprocess method:\n",
      "\n",
      " metal slug offer retro fun like drill sergeant past metal slug wake call today gamer molli coddl slick visual fanci trim hand anim sprite side scroll even consid retro releas arcad four year ago frantic shooter find end joypad year ye includ halo simpli choos grunt wade five side scroll level hectic video game blast ever encount also toughest game like play hord enemi live pile pressur player must battl soldier snowmen zombi giant crab alien mention huge screen fill boss guard five level shoot anyth move gameplay pepper moment old school geniu fan robot gastropod note titl refer instead vast array vehicl offer game stuf bizarr hardwar tank jet submarin command well cannon tote camel eleph ostrich weaponri offer acr iraq dole justic joy thank ultra respons control tough nut crack addict enough gag one last go mere metal slug cheap slice fri spud man say cours ignor lack visual firework modern blaster time blockbust titl offer fresh lick paint favour real innov metal slug fresh gasp air era xbox even twinkl bill gate eye\n",
      "\n",
      "Category: tech\n"
     ]
    }
   ],
   "source": [
    "print(\"After preprocess method:\\n\\n\",preprocess(data['text'][25]))\n",
    "print(\"\\nCategory:\",data['category'][25])"
   ]
  },
  {
   "cell_type": "markdown",
   "metadata": {},
   "source": [
    "#### Pre-Processing Entire Dataset"
   ]
  },
  {
   "cell_type": "code",
   "execution_count": 16,
   "metadata": {},
   "outputs": [],
   "source": [
    "X = data['text'].apply(lambda x:preprocess(x))"
   ]
  },
  {
   "cell_type": "markdown",
   "metadata": {},
   "source": [
    "#### Converting Input text to suitable features"
   ]
  },
  {
   "cell_type": "code",
   "execution_count": 17,
   "metadata": {},
   "outputs": [
    {
     "name": "stdout",
     "output_type": "stream",
     "text": [
      "Label Encodings: [1 1 1 ... 1 2 3]\n"
     ]
    }
   ],
   "source": [
    "# convert the input text to suitable features\n",
    "from sklearn.feature_extraction.text import TfidfVectorizer, CountVectorizer\n",
    "from sklearn.preprocessing import LabelEncoder,OneHotEncoder \n",
    "from sklearn.model_selection import train_test_split\n",
    "\n",
    "count_vectorizer = CountVectorizer()\n",
    "tfidf_vectorizer = TfidfVectorizer()\n",
    "\n",
    "x_counts = count_vectorizer.fit_transform(X)\n",
    "x_tfidf = tfidf_vectorizer.fit_transform(X)\n",
    "\n",
    "x_new = x_counts\n",
    "\n",
    "label_encoder = LabelEncoder()\n",
    "y = label_encoder.fit_transform( data['category'] )\n",
    "print(\"Label Encodings:\",y)"
   ]
  },
  {
   "cell_type": "markdown",
   "metadata": {},
   "source": [
    "**Splitting the dataset**"
   ]
  },
  {
   "cell_type": "code",
   "execution_count": 18,
   "metadata": {},
   "outputs": [
    {
     "name": "stdout",
     "output_type": "stream",
     "text": [
      "Size of Training data: 1601\n",
      "Size of Testing data: 329\n"
     ]
    }
   ],
   "source": [
    "x_train, x_test, y_train, y_test = train_test_split(x_new,y,test_size=0.17)\n",
    "ytest = np.array(y_test)\n",
    "print(\"Size of Training data:\",x_train.shape[0])\n",
    "print(\"Size of Testing data:\",x_test.shape[0])"
   ]
  },
  {
   "cell_type": "markdown",
   "metadata": {},
   "source": [
    "### ML Algorithms:\n",
    "#### 1.Naive Bayes\n",
    "#### 2. Decision Tree"
   ]
  },
  {
   "cell_type": "code",
   "execution_count": 19,
   "metadata": {},
   "outputs": [],
   "source": [
    "# Loading Libraries\n",
    "from sklearn.metrics import classification_report, plot_confusion_matrix, accuracy_score\n",
    "\n",
    "# Validating Methods\n",
    "def check_accuracy(model,x_test,y_test):\n",
    "    total = x_test.shape[0]\n",
    "    count =  0\n",
    "    res = model.predict(x_test)\n",
    "    for i in range(total):\n",
    "        y_true = y_test[i]\n",
    "        if y_true == res[i]:\n",
    "            count+=1\n",
    "    return count/total\n"
   ]
  },
  {
   "cell_type": "markdown",
   "metadata": {},
   "source": [
    "### Naive Bayes\n"
   ]
  },
  {
   "cell_type": "code",
   "execution_count": 20,
   "metadata": {},
   "outputs": [],
   "source": [
    "# Loading Naive Bayes Libraries\n",
    "from sklearn.naive_bayes import MultinomialNB\n",
    "NaiveBayes_model = MultinomialNB()\n",
    "NaiveBayes_classifier = NaiveBayes_model.fit(x_train,y_train)"
   ]
  },
  {
   "cell_type": "code",
   "execution_count": 21,
   "metadata": {},
   "outputs": [
    {
     "name": "stdout",
     "output_type": "stream",
     "text": [
      "Naive Bayes Accuracy: 0.9848024316109423 \n",
      "\n",
      "              precision    recall  f1-score   support\n",
      "\n",
      "           0       0.97      0.98      0.98        64\n",
      "           1       0.99      0.99      0.99        83\n",
      "           2       0.97      0.97      0.97        59\n",
      "           3       1.00      1.00      1.00        67\n",
      "           4       1.00      0.98      0.99        56\n",
      "\n",
      "    accuracy                           0.98       329\n",
      "   macro avg       0.98      0.98      0.98       329\n",
      "weighted avg       0.98      0.98      0.98       329\n",
      "\n"
     ]
    },
    {
     "data": {
      "image/png": "[encoded data removed]",
      "text/plain": [
       "<Figure size 432x288 with 2 Axes>"
      ]
     },
     "metadata": {
      "needs_background": "light"
     },
     "output_type": "display_data"
    }
   ],
   "source": [
    "# Validating Model\n",
    "print(\"Naive Bayes Accuracy:\",check_accuracy(NaiveBayes_model,x_test,y_test),\"\\n\")\n",
    "print(classification_report(ytest, NaiveBayes_model.predict(x_test)))\n",
    "\n",
    "title_option = [(\"Normalized confusion matrix\",'true')]\n",
    "for title, normalize in title_option:\n",
    "    disp = plot_confusion_matrix(NaiveBayes_classifier, x_test,ytest,\n",
    "                                cmap=plt.cm.Greens,\n",
    "                                normalize=normalize)"
   ]
  },
  {
   "cell_type": "markdown",
   "metadata": {},
   "source": [
    "### Decision Tree"
   ]
  },
  {
   "cell_type": "code",
   "execution_count": 22,
   "metadata": {},
   "outputs": [],
   "source": [
    "# Loading Decision Tree libraires\n",
    "from sklearn.tree import DecisionTreeClassifier\n",
    "DecisionTree_model = DecisionTreeClassifier()\n",
    "DecisionTree_classifier = DecisionTree_model.fit(x_train,y_train)"
   ]
  },
  {
   "cell_type": "code",
   "execution_count": 23,
   "metadata": {},
   "outputs": [
    {
     "name": "stdout",
     "output_type": "stream",
     "text": [
      "Decision Tree Accuracy: 0.9027355623100304 \n",
      "\n",
      "              precision    recall  f1-score   support\n",
      "\n",
      "           0       0.89      0.89      0.89        64\n",
      "           1       0.92      0.88      0.90        83\n",
      "           2       0.87      0.90      0.88        59\n",
      "           3       0.94      0.94      0.94        67\n",
      "           4       0.88      0.91      0.89        56\n",
      "\n",
      "    accuracy                           0.90       329\n",
      "   macro avg       0.90      0.90      0.90       329\n",
      "weighted avg       0.90      0.90      0.90       329\n",
      "\n"
     ]
    },
    {
     "data": {
      "image/png": "[encoded data removed]",
      "text/plain": [
       "<Figure size 432x288 with 2 Axes>"
      ]
     },
     "metadata": {
      "needs_background": "light"
     },
     "output_type": "display_data"
    }
   ],
   "source": [
    "# Validating Model\n",
    "print(\"Decision Tree Accuracy:\",check_accuracy(DecisionTree_model,x_test,y_test),\"\\n\")\n",
    "print(classification_report(ytest, DecisionTree_model.predict(x_test)))\n",
    "\n",
    "title_option = [(\"Normalized confusion matrix\",'true')]\n",
    "for title, normalize in title_option:\n",
    "    disp = plot_confusion_matrix(DecisionTree_classifier, x_test,ytest,\n",
    "                                cmap=plt.cm.Reds,\n",
    "                                normalize=normalize)"
   ]
  },
  {
   "cell_type": "markdown",
   "metadata": {},
   "source": [
    "### Accuracy across all Algorithms:"
   ]
  },
  {
   "cell_type": "code",
   "execution_count": 24,
   "metadata": {},
   "outputs": [
    {
     "name": "stdout",
     "output_type": "stream",
     "text": [
      "Naive Bayes Accuracy: 0.9848024316109423\n",
      "Desicion Tree Accuracy: 0.9027355623100304\n"
     ]
    }
   ],
   "source": [
    "print(\"Naive Bayes Accuracy:\",check_accuracy(NaiveBayes_model,x_test,y_test))\n",
    "print(\"Desicion Tree Accuracy:\",check_accuracy(DecisionTree_model,x_test,y_test))"
   ]
  },
  {
   "cell_type": "markdown",
   "metadata": {},
   "source": [
    "### Confusion Matrix of all Algorithms:\n"
   ]
  },
  {
   "cell_type": "code",
   "execution_count": 25,
   "metadata": {},
   "outputs": [
    {
     "data": {
      "image/png": "[encoded data removed]",
      "text/plain": [
       "<Figure size 432x288 with 2 Axes>"
      ]
     },
     "metadata": {
      "needs_background": "light"
     },
     "output_type": "display_data"
    },
    {
     "data": {
      "image/png": "[encoded data removed]",
      "text/plain": [
       "<Figure size 432x288 with 2 Axes>"
      ]
     },
     "metadata": {
      "needs_background": "light"
     },
     "output_type": "display_data"
    }
   ],
   "source": [
    "# Naive Bayes\n",
    "for title, normalize in title_option:\n",
    "    disp = plot_confusion_matrix(NaiveBayes_classifier, x_test,ytest,\n",
    "                                cmap=plt.cm.Greens,\n",
    "                                normalize=normalize)\n",
    "# Decision Tree\n",
    "for title, normalize in title_option:\n",
    "    disp = plot_confusion_matrix(DecisionTree_classifier, x_test,ytest,\n",
    "                                cmap=plt.cm.Reds,\n",
    "                                normalize=normalize)"
   ]
  },
  {
   "cell_type": "markdown",
   "metadata": {},
   "source": [
    "### Prediction Test for all Algorithms:"
   ]
  },
  {
   "cell_type": "code",
   "execution_count": 26,
   "metadata": {},
   "outputs": [
    {
     "name": "stdout",
     "output_type": "stream",
     "text": [
      "Naive Bayes Result: ['politics']\n",
      "Decision Tree Result: ['politics']\n"
     ]
    }
   ],
   "source": [
    "# Sample Data \n",
    "sample_data1 = \" howard hits back at mongrel jibe michael howard has said a claim by peter hain that the tory leader is acting like an  attack mongrel  shows labour is  rattled  by the opposition.  in an upbeat speech to his party s spring conference in brighton  he said labour s campaigning tactics proved the tories were hitting home. mr hain made the claim about tory tactics in the anti-terror bill debate.  something tells me that someone  somewhere out there is just a little bit rattled   mr howard said. mr hain  leader of the commons  told bbc radio four s today programme that mr howard s stance on the government s anti-terrorism legislation was putting the country at risk.\"\n",
    "sample_data2 = \" moya fights back for indian title carlos moya became the first man to successfully defend the chennai open title by beating four-times finalist paradorn srichaphan 3-6 6-4 7-6 (7/5).  the spaniard then donated his £28 000 prize money to relief efforts for the victims of the asian tsunami. the final was close throughout  with thai second seed srichaphan - the 2003 winner - closing out the first set. but moya took the second set  before bouncing back from 5-2 down in the decider to force and win a tie-break.\"\n",
    "processed_data = preprocess(sample_data1)\n",
    "x_sample = count_vectorizer.transform([processed_data])\n",
    "\n",
    "# Sample Data 2 Preview ~~ Category: SPORTS\n",
    "'''\n",
    " moya fights back for indian title carlos moya became the first man to successfully defend the chennai open title \n",
    " by beating four-times finalist paradorn srichaphan 3-6 6-4 7-6 (7/5).  the spaniard then donated his £28 000 prize \n",
    " money to relief efforts for the victims of the asian tsunami. the final was close throughout  with thai second seed \n",
    " srichaphan - the 2003 winner - closing out the first set. but moya took the second set  before bouncing back from \n",
    " 5-2 down in the decider to force and win a tie-break.\n",
    "'''\n",
    "\n",
    "# Sample Data 1 Preview ~~ Category: POLITICS\n",
    "'''\n",
    " howard hits back at mongrel jibe michael howard has said a claim by peter hain that the tory leader is acting \n",
    " like an  attack mongrel  shows labour is  rattled  by the opposition.  in an upbeat speech to his party s spring\n",
    " conference in brighton  he said labour s campaigning tactics proved the tories were hitting home. mr hain made\n",
    " the claim about tory tactics in the anti-terror bill debate.  something tells me that someone  somewhere out \n",
    " there is just a little bit rattled   mr howard said. mr hain  leader of the commons  told bbc radio four s \n",
    " today programme that mr howard s stance on the government s anti-terrorism legislation was putting the country at risk.\n",
    "'''\n",
    "\n",
    "NaiveBayes_result =  NaiveBayes_model.predict(x_sample)\n",
    "DecisionTree_result = DecisionTree_model.predict(x_sample)\n",
    "\n",
    "NaiveBayes_result = label_encoder.inverse_transform(NaiveBayes_result)\n",
    "DecisionTree_result = label_encoder.inverse_transform(DecisionTree_result)\n",
    "\n",
    "print(\"Naive Bayes Result:\",NaiveBayes_result)\n",
    "print(\"Decision Tree Result:\",DecisionTree_result)"
   ]
  },
  {
   "cell_type": "markdown",
   "metadata": {},
   "source": [
    "### Exporting the Model"
   ]
  },
  {
   "cell_type": "code",
   "execution_count": 27,
   "metadata": {},
   "outputs": [
    {
     "name": "stdout",
     "output_type": "stream",
     "text": [
      "Sample 1 Tag => POLITICS\n",
      "Sample 2 Tag => SPORT\n"
     ]
    }
   ],
   "source": [
    "from sklearn.pipeline import Pipeline\n",
    "import pickle\n",
    "\n",
    "classifier_model = Pipeline([('clf', MultinomialNB())])\n",
    "classifier_model.fit(x_train,y_train)\n",
    "classifier_sample_data = [sample_data1,sample_data2]\n",
    "count=1\n",
    "for sample in classifier_sample_data:\n",
    "    processed_data = preprocess(sample)\n",
    "    classifier_x_sample = count_vectorizer.transform([processed_data])\n",
    "    classifier_result =  classifier_model.predict(classifier_x_sample)\n",
    "    classifier_result = label_encoder.inverse_transform(classifier_result)\n",
    "    print(\"Sample\",count,\"Tag =>\",classifier_result[0].upper())\n",
    "    count=count+1"
   ]
  },
  {
   "cell_type": "code",
   "execution_count": 28,
   "metadata": {},
   "outputs": [
    {
     "data": {
      "text/plain": [
       "Pipeline(memory=None,\n",
       "         steps=[('clf',\n",
       "                 DecisionTreeClassifier(ccp_alpha=0.0, class_weight=None,\n",
       "                                        criterion='gini', max_depth=None,\n",
       "                                        max_features=None, max_leaf_nodes=None,\n",
       "                                        min_impurity_decrease=0.0,\n",
       "                                        min_impurity_split=None,\n",
       "                                        min_samples_leaf=1, min_samples_split=2,\n",
       "                                        min_weight_fraction_leaf=0.0,\n",
       "                                        presort='deprecated', random_state=None,\n",
       "                                        splitter='best'))],\n",
       "         verbose=False)"
      ]
     },
     "execution_count": 28,
     "metadata": {},
     "output_type": "execute_result"
    }
   ],
   "source": [
    "NB_model = Pipeline([('clf', MultinomialNB())])\n",
    "NB_model.fit(x_train,y_train)\n",
    "DT_model = Pipeline([('clf', DecisionTreeClassifier())])\n",
    "DT_model.fit(x_train,y_train)"
   ]
  },
  {
   "cell_type": "code",
   "execution_count": 29,
   "metadata": {},
   "outputs": [],
   "source": [
    "# Save the Module to file in the current working directory\n",
    "with open('1NB_model','wb') as file:\n",
    "    pickle.dump(NB_model,file)\n",
    "with open('2DT_model','wb') as file:\n",
    "    pickle.dump(DT_model,file)"
   ]
  },
  {
   "cell_type": "code",
   "execution_count": 30,
   "metadata": {},
   "outputs": [],
   "source": [
    "with open('vectorizer.pickle','wb') as file:\n",
    "    pickle.dump(count_vectorizer,file)"
   ]
  },
  {
   "cell_type": "code",
   "execution_count": 31,
   "metadata": {},
   "outputs": [],
   "source": [
    "# Reading the Module from file in the current working directory\n",
    "with open('1NB_model','rb') as file:\n",
    "    pickled_NB_model=pickle.load(file)\n",
    "with open('2DT_model','rb') as file:\n",
    "    pickled_DT_model=pickle.load(file)"
   ]
  },
  {
   "cell_type": "code",
   "execution_count": 32,
   "metadata": {},
   "outputs": [
    {
     "name": "stdout",
     "output_type": "stream",
     "text": [
      "Pickle Naive Bayes Module File \n",
      " Tag: POLITICS\n",
      "Pickle Decision Tree Module File \n",
      " Tag: POLITICS\n"
     ]
    }
   ],
   "source": [
    "print(\"Pickle Naive Bayes Module File \\n Tag:\",label_encoder.inverse_transform(pickled_NB_model.predict(x_sample))[0].upper())\n",
    "print(\"Pickle Decision Tree Module File \\n Tag:\",label_encoder.inverse_transform(pickled_DT_model.predict(x_sample))[0].upper())"
   ]
  },
  {
   "cell_type": "code",
   "execution_count": 33,
   "metadata": {},
   "outputs": [
    {
     "name": "stdout",
     "output_type": "stream",
     "text": [
      "Current Time = 18:56:44\n",
      "Time Taken = 0:00:17\n"
     ]
    }
   ],
   "source": [
    "later = datetime.now()\n",
    "current_time = later.strftime(\"%H:%M:%S\")\n",
    "print(\"Current Time =\", current_time)\n",
    "duration = str(later-now)\n",
    "print(\"Time Taken =\", duration.split(\".\")[0])"
   ]
  }
 ],
 "metadata": {
  "kernelspec": {
   "display_name": "Python 3",
   "language": "python",
   "name": "python3"
  },
  "language_info": {
   "codemirror_mode": {
    "name": "ipython",
    "version": 3
   },
   "file_extension": ".py",
   "mimetype": "text/x-python",
   "name": "python",
   "nbconvert_exporter": "python",
   "pygments_lexer": "ipython3",
   "version": "3.7.6"
  }
 },
 "nbformat": 4,
 "nbformat_minor": 1
}
